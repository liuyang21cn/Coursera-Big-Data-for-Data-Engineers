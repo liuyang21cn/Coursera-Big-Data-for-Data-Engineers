{
 "cells": [
  {
   "cell_type": "code",
   "execution_count": 1,
   "metadata": {},
   "outputs": [
    {
     "name": "stdout",
     "output_type": "stream",
     "text": [
      "Overwriting mapper.py\n"
     ]
    }
   ],
   "source": [
    "\n",
    "%%writefile mapper.py\n",
    "\n",
    "import sys\n",
    "import re\n",
    "\n",
    "reload(sys)\n",
    "sys.setdefaultencoding('utf-8') # required to convert to unicode\n",
    "\n",
    "distributed_cache_file = 'stop_words_en.txt'\n",
    "def read_stop_words(file_path):\n",
    "    return set(word.strip().lower() for word in open(file_path))\n",
    "stop_words = read_stop_words(distributed_cache_file)\n",
    "\n",
    "for line in sys.stdin:\n",
    "    try:\n",
    "        article_id, text = unicode(line.strip()).split('\\t', 1)\n",
    "    except ValueError as e:\n",
    "        continue\n",
    "    words = re.split(\"\\W*\\s+\\W*\", text, flags=re.UNICODE)\n",
    "    for word in words:\n",
    "        print >> sys.stderr, \"reporter:counter:myGroup,Total_words,%d\" % 1\n",
    "        if word in stop_words:\n",
    "            print >> sys.stderr, \"reporter:counter:myGroup,Stop_words,%d\" % 1"
   ]
  },
  {
   "cell_type": "code",
   "execution_count": 2,
   "metadata": {},
   "outputs": [
    {
     "name": "stdout",
     "output_type": "stream",
     "text": [
      "Writing myScript.py\n"
     ]
    }
   ],
   "source": [
    "\n",
    "%%writefile myScript.py\n",
    "\n",
    "import sys\n",
    "reload(sys)\n",
    "\n",
    "nums = []\n",
    "for line in sys.stdin:\n",
    "    try:\n",
    "        num = line.strip()\n",
    "        num = float(num)\n",
    "#         num = float(num)\n",
    "    except ValueError as e:\n",
    "        continue\n",
    "    \n",
    "    nums.append(num)\n",
    "print nums[0]*100.0 / nums[1]"
   ]
  },
  {
   "cell_type": "code",
   "execution_count": 3,
   "metadata": {},
   "outputs": [
    {
     "name": "stdout",
     "output_type": "stream",
     "text": [
      "38.4403690091\n"
     ]
    },
    {
     "name": "stderr",
     "output_type": "stream",
     "text": [
      "rm: `wordcount_result_1523287356128041': No such file or directory\n",
      "18/04/09 15:22:39 INFO client.RMProxy: Connecting to ResourceManager at /0.0.0.0:8032\n",
      "18/04/09 15:22:39 INFO client.RMProxy: Connecting to ResourceManager at /0.0.0.0:8032\n",
      "18/04/09 15:22:39 INFO mapred.FileInputFormat: Total input files to process : 1\n",
      "18/04/09 15:22:40 INFO mapreduce.JobSubmitter: number of splits:2\n",
      "18/04/09 15:22:40 INFO mapreduce.JobSubmitter: Submitting tokens for job: job_1523238091714_0003\n",
      "18/04/09 15:22:40 INFO impl.YarnClientImpl: Submitted application application_1523238091714_0003\n",
      "18/04/09 15:22:40 INFO mapreduce.Job: The url to track the job: http://f54c3d191c00:8088/proxy/application_1523238091714_0003/\n",
      "18/04/09 15:22:40 INFO mapreduce.Job: Running job: job_1523238091714_0003\n",
      "18/04/09 15:22:46 INFO mapreduce.Job: Job job_1523238091714_0003 running in uber mode : false\n",
      "18/04/09 15:22:46 INFO mapreduce.Job:  map 0% reduce 0%\n",
      "18/04/09 15:23:02 INFO mapreduce.Job:  map 53% reduce 0%\n",
      "18/04/09 15:23:08 INFO mapreduce.Job:  map 80% reduce 0%\n",
      "18/04/09 15:23:12 INFO mapreduce.Job:  map 100% reduce 0%\n",
      "18/04/09 15:23:13 INFO mapreduce.Job: Job job_1523238091714_0003 completed successfully\n",
      "18/04/09 15:23:13 INFO mapreduce.Job: Counters: 32\n",
      "\tFile System Counters\n",
      "\t\tFILE: Number of bytes read=0\n",
      "\t\tFILE: Number of bytes written=278666\n",
      "\t\tFILE: Number of read operations=0\n",
      "\t\tFILE: Number of large read operations=0\n",
      "\t\tFILE: Number of write operations=0\n",
      "\t\tHDFS: Number of bytes read=76874501\n",
      "\t\tHDFS: Number of bytes written=0\n",
      "\t\tHDFS: Number of read operations=10\n",
      "\t\tHDFS: Number of large read operations=0\n",
      "\t\tHDFS: Number of write operations=4\n",
      "\tJob Counters \n",
      "\t\tLaunched map tasks=2\n",
      "\t\tData-local map tasks=2\n",
      "\t\tTotal time spent by all maps in occupied slots (ms)=49316\n",
      "\t\tTotal time spent by all reduces in occupied slots (ms)=0\n",
      "\t\tTotal time spent by all map tasks (ms)=49316\n",
      "\t\tTotal vcore-milliseconds taken by all map tasks=49316\n",
      "\t\tTotal megabyte-milliseconds taken by all map tasks=50499584\n",
      "\tMap-Reduce Framework\n",
      "\t\tMap input records=4100\n",
      "\t\tMap output records=0\n",
      "\t\tInput split bytes=228\n",
      "\t\tSpilled Records=0\n",
      "\t\tFailed Shuffles=0\n",
      "\t\tMerged Map outputs=0\n",
      "\t\tGC time elapsed (ms)=1579\n",
      "\t\tCPU time spent (ms)=81960\n",
      "\t\tPhysical memory (bytes) snapshot=380293120\n",
      "\t\tVirtual memory (bytes) snapshot=4023803904\n",
      "\t\tTotal committed heap usage (bytes)=308805632\n",
      "\tmyGroup\n",
      "\t\tStop_words=4588771\n",
      "\t\tTotal_words=11937375\n",
      "\tFile Input Format Counters \n",
      "\t\tBytes Read=76874273\n",
      "\tFile Output Format Counters \n",
      "\t\tBytes Written=0\n",
      "18/04/09 15:23:13 INFO streaming.StreamJob: Output directory: wordcount_result_1523287356128041\n"
     ]
    }
   ],
   "source": [
    "%%bash\n",
    "\n",
    "OUT_DIR=\"wordcount_result_\"$(date +\"%s%6N\")\n",
    "NUM_REDUCERS=0\n",
    "\n",
    "hdfs dfs -rm -r -skipTrash ${OUT_DIR} > /dev/null\n",
    "\n",
    "yarn jar /opt/cloudera/parcels/CDH/lib/hadoop-mapreduce/hadoop-streaming.jar \\\n",
    "    -D mapred.jab.name=\"Streaming wordCount\" \\\n",
    "    -D mapreduce.job.reduces=${NUM_REDUCERS} \\\n",
    "    -files mapper.py,/datasets/stop_words_en.txt \\\n",
    "    -mapper \"python mapper.py\" \\\n",
    "    -numReduceTasks 0 \\\n",
    "    -input /data/wiki/en_articles_part \\\n",
    "    -output ${OUT_DIR} > /dev/null 2> output.log\n",
    "\n",
    "# print the answer\n",
    "cat output.log | egrep \"*_words\" | grep -Eo [0-9]+ | python2 myScript.py\n",
    "\n",
    "# print log to stderr for grader\n",
    "cat output.log >&2"
   ]
  },
  {
   "cell_type": "code",
   "execution_count": null,
   "metadata": {},
   "outputs": [],
   "source": []
  }
 ],
 "metadata": {
  "kernelspec": {
   "display_name": "Python 2",
   "language": "python",
   "name": "python2"
  },
  "language_info": {
   "codemirror_mode": {
    "name": "ipython",
    "version": 2
   },
   "file_extension": ".py",
   "mimetype": "text/x-python",
   "name": "python",
   "nbconvert_exporter": "python",
   "pygments_lexer": "ipython2",
   "version": "2.7.12"
  }
 },
 "nbformat": 4,
 "nbformat_minor": 2
}
