{
 "cells": [
  {
   "cell_type": "code",
   "execution_count": 1,
   "metadata": {},
   "outputs": [
    {
     "name": "stdout",
     "output_type": "stream",
     "text": [
      "Writing mapper.py\n"
     ]
    }
   ],
   "source": [
    "%%writefile mapper.py\n",
    "\n",
    "import sys\n",
    "import re\n",
    "\n",
    "reload(sys)\n",
    "sys.setdefaultencoding('utf-8') # required to convert to unicode\n",
    "\n",
    "for line in sys.stdin:\n",
    "    try:\n",
    "        article_id, text = unicode(line.strip()).split('\\t', 1)\n",
    "    except ValueError as e:\n",
    "        continue\n",
    "    words = re.split(\"\\W*\\s+\\W*\", text, flags=re.UNICODE)\n",
    "    for word in words:\n",
    "#         print >> sys.stderr, \"reporter:counter:Wiki stats,Total words,%d\" % 1\n",
    "        print \"%s\\t%d\" % (word.lower(), 1)"
   ]
  },
  {
   "cell_type": "code",
   "execution_count": 2,
   "metadata": {},
   "outputs": [
    {
     "name": "stdout",
     "output_type": "stream",
     "text": [
      "Writing reducer.py\n"
     ]
    }
   ],
   "source": [
    "%%writefile reducer.py\n",
    "\n",
    "import sys\n",
    "\n",
    "current_key = None\n",
    "word_sum = 0"
   ]
  },
  {
   "cell_type": "code",
   "execution_count": 3,
   "metadata": {},
   "outputs": [
    {
     "name": "stdout",
     "output_type": "stream",
     "text": [
      "Appending to reducer.py\n"
     ]
    }
   ],
   "source": [
    "%%writefile -a reducer.py\n",
    "\n",
    "for line in sys.stdin:\n",
    "    try:\n",
    "        key, count = line.strip().split('\\t', 1)\n",
    "        count = int(count)\n",
    "    except ValueError as e:\n",
    "        continue\n",
    "    if current_key != key:\n",
    "        if current_key:\n",
    "            print \"%s\\t%d\" % (current_key, word_sum)\n",
    "        word_sum = 0\n",
    "        current_key = key\n",
    "    word_sum += count\n",
    "\n",
    "if current_key:\n",
    "    print \"%s\\t%d\" % (current_key, word_sum)"
   ]
  },
  {
   "cell_type": "code",
   "execution_count": 4,
   "metadata": {},
   "outputs": [
    {
     "name": "stdout",
     "output_type": "stream",
     "text": [
      "Found 1 items\r\n",
      "drwxrwxrwx   - jovyan supergroup          0 2017-10-17 13:15 /data/wiki/en_articles_part\r\n"
     ]
    }
   ],
   "source": [
    "! hdfs dfs -ls /data/wiki"
   ]
  },
  {
   "cell_type": "code",
   "execution_count": 5,
   "metadata": {},
   "outputs": [
    {
     "name": "stdout",
     "output_type": "stream",
     "text": [
      "is\t126420\n"
     ]
    },
    {
     "name": "stderr",
     "output_type": "stream",
     "text": [
      "rm: `wordcount_result_1523285869010300': No such file or directory\n",
      "18/04/09 14:57:52 INFO client.RMProxy: Connecting to ResourceManager at /0.0.0.0:8032\n",
      "18/04/09 14:57:52 INFO client.RMProxy: Connecting to ResourceManager at /0.0.0.0:8032\n",
      "18/04/09 14:57:54 INFO mapred.FileInputFormat: Total input files to process : 1\n",
      "18/04/09 14:57:54 INFO mapreduce.JobSubmitter: number of splits:2\n",
      "18/04/09 14:57:54 INFO mapreduce.JobSubmitter: Submitting tokens for job: job_1523238091714_0001\n",
      "18/04/09 14:57:54 INFO impl.YarnClientImpl: Submitted application application_1523238091714_0001\n",
      "18/04/09 14:57:55 INFO mapreduce.Job: The url to track the job: http://f54c3d191c00:8088/proxy/application_1523238091714_0001/\n",
      "18/04/09 14:57:55 INFO mapreduce.Job: Running job: job_1523238091714_0001\n",
      "18/04/09 14:58:01 INFO mapreduce.Job: Job job_1523238091714_0001 running in uber mode : false\n",
      "18/04/09 14:58:01 INFO mapreduce.Job:  map 0% reduce 0%\n",
      "18/04/09 14:58:17 INFO mapreduce.Job:  map 46% reduce 0%\n",
      "18/04/09 14:58:23 INFO mapreduce.Job:  map 66% reduce 0%\n",
      "18/04/09 14:58:29 INFO mapreduce.Job:  map 100% reduce 0%\n",
      "18/04/09 14:58:34 INFO mapreduce.Job:  map 100% reduce 13%\n",
      "18/04/09 14:58:35 INFO mapreduce.Job:  map 100% reduce 25%\n",
      "18/04/09 14:58:37 INFO mapreduce.Job:  map 100% reduce 38%\n",
      "18/04/09 14:58:38 INFO mapreduce.Job:  map 100% reduce 63%\n",
      "18/04/09 14:58:39 INFO mapreduce.Job:  map 100% reduce 88%\n",
      "18/04/09 14:58:40 INFO mapreduce.Job:  map 100% reduce 100%\n",
      "18/04/09 14:58:41 INFO mapreduce.Job: Job job_1523238091714_0001 completed successfully\n",
      "18/04/09 14:58:41 INFO mapreduce.Job: Counters: 50\n",
      "\tFile System Counters\n",
      "\t\tFILE: Number of bytes read=17954826\n",
      "\t\tFILE: Number of bytes written=28259613\n",
      "\t\tFILE: Number of read operations=0\n",
      "\t\tFILE: Number of large read operations=0\n",
      "\t\tFILE: Number of write operations=0\n",
      "\t\tHDFS: Number of bytes read=76874501\n",
      "\t\tHDFS: Number of bytes written=5370513\n",
      "\t\tHDFS: Number of read operations=30\n",
      "\t\tHDFS: Number of large read operations=0\n",
      "\t\tHDFS: Number of write operations=16\n",
      "\tJob Counters \n",
      "\t\tKilled reduce tasks=1\n",
      "\t\tLaunched map tasks=2\n",
      "\t\tLaunched reduce tasks=8\n",
      "\t\tData-local map tasks=2\n",
      "\t\tTotal time spent by all maps in occupied slots (ms)=50965\n",
      "\t\tTotal time spent by all reduces in occupied slots (ms)=23501\n",
      "\t\tTotal time spent by all map tasks (ms)=50965\n",
      "\t\tTotal time spent by all reduce tasks (ms)=23501\n",
      "\t\tTotal vcore-milliseconds taken by all map tasks=50965\n",
      "\t\tTotal vcore-milliseconds taken by all reduce tasks=23501\n",
      "\t\tTotal megabyte-milliseconds taken by all map tasks=52188160\n",
      "\t\tTotal megabyte-milliseconds taken by all reduce tasks=24065024\n",
      "\tMap-Reduce Framework\n",
      "\t\tMap input records=4100\n",
      "\t\tMap output records=11937375\n",
      "\t\tMap output bytes=97842436\n",
      "\t\tMap output materialized bytes=8952763\n",
      "\t\tInput split bytes=228\n",
      "\t\tCombine input records=11937375\n",
      "\t\tCombine output records=640011\n",
      "\t\tReduce input groups=427175\n",
      "\t\tReduce shuffle bytes=8952763\n",
      "\t\tReduce input records=640011\n",
      "\t\tReduce output records=427175\n",
      "\t\tSpilled Records=1920033\n",
      "\t\tShuffled Maps =16\n",
      "\t\tFailed Shuffles=0\n",
      "\t\tMerged Map outputs=16\n",
      "\t\tGC time elapsed (ms)=1003\n",
      "\t\tCPU time spent (ms)=64380\n",
      "\t\tPhysical memory (bytes) snapshot=2347077632\n",
      "\t\tVirtual memory (bytes) snapshot=20213153792\n",
      "\t\tTotal committed heap usage (bytes)=1598029824\n",
      "\tShuffle Errors\n",
      "\t\tBAD_ID=0\n",
      "\t\tCONNECTION=0\n",
      "\t\tIO_ERROR=0\n",
      "\t\tWRONG_LENGTH=0\n",
      "\t\tWRONG_MAP=0\n",
      "\t\tWRONG_REDUCE=0\n",
      "\tFile Input Format Counters \n",
      "\t\tBytes Read=76874273\n",
      "\tFile Output Format Counters \n",
      "\t\tBytes Written=5370513\n",
      "18/04/09 14:58:41 INFO streaming.StreamJob: Output directory: wordcount_result_1523285869010300\n",
      "sort: write failed: 'standard output': Broken pipe\n",
      "sort: write error\n"
     ]
    }
   ],
   "source": [
    "%%bash\n",
    "\n",
    "OUT_DIR=\"wordcount_result_\"$(date +\"%s%6N\")\n",
    "NUM_REDUCERS=8\n",
    "\n",
    "hdfs dfs -rm -r -skipTrash ${OUT_DIR} > /dev/null\n",
    "\n",
    "yarn jar /opt/cloudera/parcels/CDH/lib/hadoop-mapreduce/hadoop-streaming.jar \\\n",
    "    -D mapred.jab.name=\"Streaming wordCount\" \\\n",
    "    -D mapreduce.job.reduces=${NUM_REDUCERS} \\\n",
    "    -D mapreduce.partition.keycomparator.options=\"-k2,2nr\" \\\n",
    "    -files mapper.py,reducer.py \\\n",
    "    -mapper \"python mapper.py\" \\\n",
    "    -combiner \"python reducer.py\" \\\n",
    "    -reducer \"python reducer.py\" \\\n",
    "    -input /data/wiki/en_articles_part \\\n",
    "    -output ${OUT_DIR} > /dev/null\n",
    "\n",
    "hadoop fs -cat ${OUT_DIR}/part-* > Result.txt\n",
    "cat Result.txt | sort -k2,2nr | head -7 | tail -1"
   ]
  },
  {
   "cell_type": "code",
   "execution_count": null,
   "metadata": {
    "collapsed": true
   },
   "outputs": [],
   "source": []
  }
 ],
 "metadata": {
  "kernelspec": {
   "display_name": "Python 2",
   "language": "python",
   "name": "python2"
  },
  "language_info": {
   "codemirror_mode": {
    "name": "ipython",
    "version": 2
   },
   "file_extension": ".py",
   "mimetype": "text/x-python",
   "name": "python",
   "nbconvert_exporter": "python",
   "pygments_lexer": "ipython2",
   "version": "2.7.12"
  }
 },
 "nbformat": 4,
 "nbformat_minor": 2
}
